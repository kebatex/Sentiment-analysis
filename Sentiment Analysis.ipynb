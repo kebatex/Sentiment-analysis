{
  "nbformat": 4,
  "nbformat_minor": 0,
  "metadata": {
    "colab": {
      "name": "Artificial Brix Assignment.ipynb",
      "provenance": []
    },
    "kernelspec": {
      "name": "python3",
      "display_name": "Python 3"
    }
  },
  "cells": [
    {
      "cell_type": "markdown",
      "metadata": {
        "id": "jDU4YUhAG85k"
      },
      "source": [
        "**Uploading train and test data**"
      ]
    },
    {
      "cell_type": "code",
      "metadata": {
        "colab": {
          "resources": {
            "http://localhost:8080/nbextensions/google.colab/files.js": {
              "data": "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",
              "ok": true,
              "headers": [
                [
                  "content-type",
                  "application/javascript"
                ]
              ],
              "status": 200,
              "status_text": ""
            }
          },
          "base_uri": "https://localhost:8080/",
          "height": 106
        },
        "id": "CorjeMrfG9Hd",
        "outputId": "19331c05-e44b-4209-e64f-eefbc7144c17"
      },
      "source": [
        "# Colab library to upload files to notebook\r\n",
        "from google.colab import files\r\n",
        "\r\n",
        "uploaded = files.upload()"
      ],
      "execution_count": 1,
      "outputs": [
        {
          "output_type": "display_data",
          "data": {
            "text/html": [
              "\n",
              "     <input type=\"file\" id=\"files-2eff93b2-0bb4-47ce-a591-718a346d25c4\" name=\"files[]\" multiple disabled\n",
              "        style=\"border:none\" />\n",
              "     <output id=\"result-2eff93b2-0bb4-47ce-a591-718a346d25c4\">\n",
              "      Upload widget is only available when the cell has been executed in the\n",
              "      current browser session. Please rerun this cell to enable.\n",
              "      </output>\n",
              "      <script src=\"/nbextensions/google.colab/files.js\"></script> "
            ],
            "text/plain": [
              "<IPython.core.display.HTML object>"
            ]
          },
          "metadata": {
            "tags": []
          }
        },
        {
          "output_type": "stream",
          "text": [
            "Saving test_data.txt to test_data.txt\n",
            "Saving train_data.txt to train_data.txt\n"
          ],
          "name": "stdout"
        }
      ]
    },
    {
      "cell_type": "markdown",
      "metadata": {
        "id": "K0zKx88rHXNT"
      },
      "source": [
        "**Imports**"
      ]
    },
    {
      "cell_type": "code",
      "metadata": {
        "id": "MRQdHAnwHTGz",
        "colab": {
          "base_uri": "https://localhost:8080/"
        },
        "outputId": "48c24cc7-3bad-4e68-c59b-d1bff758b940"
      },
      "source": [
        "import numpy as np\r\n",
        "import pandas as pd\r\n",
        "import pickle\r\n",
        "import re\r\n",
        "import matplotlib.pyplot as plt\r\n",
        "import seaborn as sns\r\n",
        "import tensorflow_hub as hub \r\n",
        "\r\n",
        "import nltk\r\n",
        "from nltk.corpus import stopwords\r\n",
        "import tensorflow as tf\r\n",
        "from tensorflow.keras.preprocessing.text import Tokenizer\r\n",
        "from tensorflow.keras.preprocessing.sequence import pad_sequences\r\n",
        "nltk.download('punkt')\r\n",
        "nltk.download('stopwords')\r\n",
        "\r\n",
        "\r\n",
        "from keras.models import Sequential\r\n",
        "from keras.layers import Dense\r\n",
        "from keras.layers import LSTM\r\n",
        "from keras.layers.embeddings import Embedding\r\n",
        "from keras.preprocessing import sequence\r\n",
        "# fix random seed for reproducibility\r\n",
        "np.random.seed(7)"
      ],
      "execution_count": 2,
      "outputs": [
        {
          "output_type": "stream",
          "text": [
            "[nltk_data] Downloading package punkt to /root/nltk_data...\n",
            "[nltk_data]   Unzipping tokenizers/punkt.zip.\n",
            "[nltk_data] Downloading package stopwords to /root/nltk_data...\n",
            "[nltk_data]   Unzipping corpora/stopwords.zip.\n"
          ],
          "name": "stdout"
        }
      ]
    },
    {
      "cell_type": "code",
      "metadata": {
        "id": "Q1SUyI7XBeC1"
      },
      "source": [
        "vocab_size = 5000\r\n",
        "embedding_dim = 64\r\n",
        "max_length = 300\r\n",
        "trunc_type = 'post'\r\n",
        "padding_type = 'post'\r\n",
        "oov_tok = '<OOV>'\r\n",
        "training_portion = .8"
      ],
      "execution_count": 3,
      "outputs": []
    },
    {
      "cell_type": "markdown",
      "metadata": {
        "id": "rzHN4ujkHkyo"
      },
      "source": [
        "**Text Files to Dataframes**"
      ]
    },
    {
      "cell_type": "code",
      "metadata": {
        "id": "Tv9jt59BJ1rb"
      },
      "source": [
        "train_data_name='train_data.txt'\r\n",
        "test_data_name='test_data.txt'"
      ],
      "execution_count": 4,
      "outputs": []
    },
    {
      "cell_type": "code",
      "metadata": {
        "id": "cASnl2rtJI9U"
      },
      "source": [
        "def df_maker(file_name):\r\n",
        "  df = pd.DataFrame(columns=['sentence','sentiment'])\r\n",
        "  f = open(file_name,'r')\r\n",
        "  lines = f.readlines()\r\n",
        "  f.close()\r\n",
        "\r\n",
        "  sentences=[]\r\n",
        "  sentiment=[]\r\n",
        "  for line in lines:\r\n",
        "    sc=line.split(';')\r\n",
        "    st=re.sub('\\n', '', sc[1])\r\n",
        "    sentences.append(sc[0])\r\n",
        "    sentiment.append(st)\r\n",
        "  \r\n",
        "  df['sentence']=sentences\r\n",
        "  df['sentiment']=sentiment\r\n",
        "\r\n",
        "  return df"
      ],
      "execution_count": 5,
      "outputs": []
    },
    {
      "cell_type": "code",
      "metadata": {
        "id": "RdZX3FiIJNhL"
      },
      "source": [
        "train_df=df_maker(train_data_name)\r\n",
        "test_df=df_maker(test_data_name)"
      ],
      "execution_count": 6,
      "outputs": []
    },
    {
      "cell_type": "code",
      "metadata": {
        "id": "MiTP4AFmQ9BF",
        "colab": {
          "base_uri": "https://localhost:8080/",
          "height": 204
        },
        "outputId": "c0cb1489-0e2f-45b9-cc6d-d2248eb7a1df"
      },
      "source": [
        "train_df.head()"
      ],
      "execution_count": 7,
      "outputs": [
        {
          "output_type": "execute_result",
          "data": {
            "text/html": [
              "<div>\n",
              "<style scoped>\n",
              "    .dataframe tbody tr th:only-of-type {\n",
              "        vertical-align: middle;\n",
              "    }\n",
              "\n",
              "    .dataframe tbody tr th {\n",
              "        vertical-align: top;\n",
              "    }\n",
              "\n",
              "    .dataframe thead th {\n",
              "        text-align: right;\n",
              "    }\n",
              "</style>\n",
              "<table border=\"1\" class=\"dataframe\">\n",
              "  <thead>\n",
              "    <tr style=\"text-align: right;\">\n",
              "      <th></th>\n",
              "      <th>sentence</th>\n",
              "      <th>sentiment</th>\n",
              "    </tr>\n",
              "  </thead>\n",
              "  <tbody>\n",
              "    <tr>\n",
              "      <th>0</th>\n",
              "      <td>i didnt feel humiliated</td>\n",
              "      <td>sadness</td>\n",
              "    </tr>\n",
              "    <tr>\n",
              "      <th>1</th>\n",
              "      <td>i can go from feeling so hopeless to so damned...</td>\n",
              "      <td>sadness</td>\n",
              "    </tr>\n",
              "    <tr>\n",
              "      <th>2</th>\n",
              "      <td>im grabbing a minute to post i feel greedy wrong</td>\n",
              "      <td>anger</td>\n",
              "    </tr>\n",
              "    <tr>\n",
              "      <th>3</th>\n",
              "      <td>i am ever feeling nostalgic about the fireplac...</td>\n",
              "      <td>love</td>\n",
              "    </tr>\n",
              "    <tr>\n",
              "      <th>4</th>\n",
              "      <td>i am feeling grouchy</td>\n",
              "      <td>anger</td>\n",
              "    </tr>\n",
              "  </tbody>\n",
              "</table>\n",
              "</div>"
            ],
            "text/plain": [
              "                                            sentence sentiment\n",
              "0                            i didnt feel humiliated   sadness\n",
              "1  i can go from feeling so hopeless to so damned...   sadness\n",
              "2   im grabbing a minute to post i feel greedy wrong     anger\n",
              "3  i am ever feeling nostalgic about the fireplac...      love\n",
              "4                               i am feeling grouchy     anger"
            ]
          },
          "metadata": {
            "tags": []
          },
          "execution_count": 7
        }
      ]
    },
    {
      "cell_type": "code",
      "metadata": {
        "colab": {
          "base_uri": "https://localhost:8080/",
          "height": 204
        },
        "id": "h-Gm9o391u1n",
        "outputId": "90782737-51f8-4ffe-c05d-40e4d1f41cf5"
      },
      "source": [
        "test_df.head()"
      ],
      "execution_count": 8,
      "outputs": [
        {
          "output_type": "execute_result",
          "data": {
            "text/html": [
              "<div>\n",
              "<style scoped>\n",
              "    .dataframe tbody tr th:only-of-type {\n",
              "        vertical-align: middle;\n",
              "    }\n",
              "\n",
              "    .dataframe tbody tr th {\n",
              "        vertical-align: top;\n",
              "    }\n",
              "\n",
              "    .dataframe thead th {\n",
              "        text-align: right;\n",
              "    }\n",
              "</style>\n",
              "<table border=\"1\" class=\"dataframe\">\n",
              "  <thead>\n",
              "    <tr style=\"text-align: right;\">\n",
              "      <th></th>\n",
              "      <th>sentence</th>\n",
              "      <th>sentiment</th>\n",
              "    </tr>\n",
              "  </thead>\n",
              "  <tbody>\n",
              "    <tr>\n",
              "      <th>0</th>\n",
              "      <td>im feeling rather rotten so im not very ambiti...</td>\n",
              "      <td>sadness</td>\n",
              "    </tr>\n",
              "    <tr>\n",
              "      <th>1</th>\n",
              "      <td>im updating my blog because i feel shitty</td>\n",
              "      <td>sadness</td>\n",
              "    </tr>\n",
              "    <tr>\n",
              "      <th>2</th>\n",
              "      <td>i never make her separate from me because i do...</td>\n",
              "      <td>sadness</td>\n",
              "    </tr>\n",
              "    <tr>\n",
              "      <th>3</th>\n",
              "      <td>i left with my bouquet of red and yellow tulip...</td>\n",
              "      <td>joy</td>\n",
              "    </tr>\n",
              "    <tr>\n",
              "      <th>4</th>\n",
              "      <td>i was feeling a little vain when i did this one</td>\n",
              "      <td>sadness</td>\n",
              "    </tr>\n",
              "  </tbody>\n",
              "</table>\n",
              "</div>"
            ],
            "text/plain": [
              "                                            sentence sentiment\n",
              "0  im feeling rather rotten so im not very ambiti...   sadness\n",
              "1          im updating my blog because i feel shitty   sadness\n",
              "2  i never make her separate from me because i do...   sadness\n",
              "3  i left with my bouquet of red and yellow tulip...       joy\n",
              "4    i was feeling a little vain when i did this one   sadness"
            ]
          },
          "metadata": {
            "tags": []
          },
          "execution_count": 8
        }
      ]
    },
    {
      "cell_type": "markdown",
      "metadata": {
        "id": "RKjgf5g3PD4b"
      },
      "source": [
        "**Dataframes to CSV**"
      ]
    },
    {
      "cell_type": "code",
      "metadata": {
        "id": "a9FN9YbpL-0I"
      },
      "source": [
        "train_df.to_csv(r'/content/train.csv')\r\n",
        "test_df.to_csv(r'/content/test.csv')"
      ],
      "execution_count": 9,
      "outputs": []
    },
    {
      "cell_type": "code",
      "metadata": {
        "colab": {
          "base_uri": "https://localhost:8080/"
        },
        "id": "KIU6Uh7dDVOn",
        "outputId": "48f8c305-89fb-4f7b-8b58-f1966b25ecdc"
      },
      "source": [
        "train_df['sentiment'].value_counts()"
      ],
      "execution_count": 10,
      "outputs": [
        {
          "output_type": "execute_result",
          "data": {
            "text/plain": [
              "joy         5362\n",
              "sadness     4666\n",
              "anger       2159\n",
              "fear        1937\n",
              "love        1304\n",
              "surprise     572\n",
              "Name: sentiment, dtype: int64"
            ]
          },
          "metadata": {
            "tags": []
          },
          "execution_count": 10
        }
      ]
    },
    {
      "cell_type": "code",
      "metadata": {
        "id": "qpb6KQ9MPByn",
        "colab": {
          "base_uri": "https://localhost:8080/",
          "height": 400
        },
        "outputId": "c4d9fe75-837f-433c-f17a-97457eabbd4a"
      },
      "source": [
        "sns.catplot(x=\"sentiment\", kind=\"count\", palette=\"ch:.25\", data=train_df)"
      ],
      "execution_count": 11,
      "outputs": [
        {
          "output_type": "execute_result",
          "data": {
            "text/plain": [
              "<seaborn.axisgrid.FacetGrid at 0x7fd5f4d172b0>"
            ]
          },
          "metadata": {
            "tags": []
          },
          "execution_count": 11
        },
        {
          "output_type": "display_data",
          "data": {
            "image/png": "[encoded data removed]",
            "text/plain": [
              "<Figure size 360x360 with 1 Axes>"
            ]
          },
          "metadata": {
            "tags": [],
            "needs_background": "light"
          }
        }
      ]
    },
    {
      "cell_type": "code",
      "metadata": {
        "id": "eTWripDwD7HD"
      },
      "source": [
        "X_train=train_df\r\n",
        "X_test=test_df"
      ],
      "execution_count": 12,
      "outputs": []
    },
    {
      "cell_type": "markdown",
      "metadata": {
        "id": "Gct0lVSgI9fa"
      },
      "source": [
        "**Imbalanced Dataset so making a class weight class**"
      ]
    },
    {
      "cell_type": "code",
      "metadata": {
        "id": "Y7AOKsk_D7Jw"
      },
      "source": [
        "from sklearn.utils import class_weight\r\n",
        "\r\n",
        "class_weights = list(class_weight.compute_class_weight('balanced',np.unique(train_df['sentiment']),train_df['sentiment'] ))"
      ],
      "execution_count": 13,
      "outputs": []
    },
    {
      "cell_type": "code",
      "metadata": {
        "colab": {
          "base_uri": "https://localhost:8080/"
        },
        "id": "0iphE1_QD7NO",
        "outputId": "8dc9ca26-7808-4acc-a8f3-a4170794c0db"
      },
      "source": [
        "class_weights.sort()\r\n",
        "print(class_weights)"
      ],
      "execution_count": 14,
      "outputs": [
        {
          "output_type": "stream",
          "text": [
            "[0.49732686808404825, 0.5715102157451064, 1.2351397251814111, 1.3766993632765445, 2.044989775051125, 4.662004662004662]\n"
          ],
          "name": "stdout"
        }
      ]
    },
    {
      "cell_type": "code",
      "metadata": {
        "colab": {
          "base_uri": "https://localhost:8080/"
        },
        "id": "1Cwnmod2D7P8",
        "outputId": "b8474608-467e-4257-8d52-2e3ab0f6ae44"
      },
      "source": [
        "weights={}\r\n",
        "for index, weight in enumerate(class_weights):\r\n",
        "  weights[index]=weight\r\n",
        "print(weights)"
      ],
      "execution_count": 15,
      "outputs": [
        {
          "output_type": "stream",
          "text": [
            "{0: 0.49732686808404825, 1: 0.5715102157451064, 2: 1.2351397251814111, 3: 1.3766993632765445, 4: 2.044989775051125, 5: 4.662004662004662}\n"
          ],
          "name": "stdout"
        }
      ]
    },
    {
      "cell_type": "markdown",
      "metadata": {
        "id": "0qeMiC9tJGMW"
      },
      "source": [
        "**Converting into Tensors**"
      ]
    },
    {
      "cell_type": "code",
      "metadata": {
        "id": "M5sss6E8D7Sy"
      },
      "source": [
        "dataset_train = tf.data.Dataset.from_tensor_slices((X_train['sentence'].values,X_train['sentiment'].values))\r\n",
        "dataset_test = tf.data.Dataset.from_tensor_slices((X_test['sentence'].values,X_test['sentiment'].values))"
      ],
      "execution_count": 16,
      "outputs": []
    },
    {
      "cell_type": "code",
      "metadata": {
        "colab": {
          "base_uri": "https://localhost:8080/"
        },
        "id": "1PINR_xID7VB",
        "outputId": "d63e3702-090c-4fc5-c449-6b276749a84c"
      },
      "source": [
        "for text, target in dataset_train.take(5):\r\n",
        "  print(text, target)"
      ],
      "execution_count": 17,
      "outputs": [
        {
          "output_type": "stream",
          "text": [
            "tf.Tensor(b'i didnt feel humiliated', shape=(), dtype=string) tf.Tensor(b'sadness', shape=(), dtype=string)\n",
            "tf.Tensor(b'i can go from feeling so hopeless to so damned hopeful just from being around someone who cares and is awake', shape=(), dtype=string) tf.Tensor(b'sadness', shape=(), dtype=string)\n",
            "tf.Tensor(b'im grabbing a minute to post i feel greedy wrong', shape=(), dtype=string) tf.Tensor(b'anger', shape=(), dtype=string)\n",
            "tf.Tensor(b'i am ever feeling nostalgic about the fireplace i will know that it is still on the property', shape=(), dtype=string) tf.Tensor(b'love', shape=(), dtype=string)\n",
            "tf.Tensor(b'i am feeling grouchy', shape=(), dtype=string) tf.Tensor(b'anger', shape=(), dtype=string)\n"
          ],
          "name": "stdout"
        }
      ]
    },
    {
      "cell_type": "markdown",
      "metadata": {
        "id": "MHOZy_ZpJcxF"
      },
      "source": [
        "**sentiment column into tensor numerical representation**"
      ]
    },
    {
      "cell_type": "code",
      "metadata": {
        "id": "xxQ8nsdRD7XW"
      },
      "source": [
        "table =tf.lookup.StaticHashTable(\r\n",
        "    initializer= tf.lookup.KeyValueTensorInitializer(\r\n",
        "        keys=tf.constant(['joy','sadness' ,'anger','fear','love','surprise']),\r\n",
        "        values=tf.constant([0,1,2,3,4,5]),\r\n",
        "        ),\r\n",
        "        default_value= tf.constant(-1),\r\n",
        "        name=\"target_encoding\"\r\n",
        ")\r\n",
        "\r\n",
        "@tf.function\r\n",
        "def target(x):\r\n",
        "  return table.lookup(x)"
      ],
      "execution_count": 18,
      "outputs": []
    },
    {
      "cell_type": "code",
      "metadata": {
        "id": "CG69pJo_D7aX"
      },
      "source": [
        "def show_batch(dataset, size=5):\r\n",
        "  for batch,label in dataset.take(size):\r\n",
        "    print(batch.numpy())\r\n",
        "    print(target(label).numpy())"
      ],
      "execution_count": 19,
      "outputs": []
    },
    {
      "cell_type": "code",
      "metadata": {
        "colab": {
          "base_uri": "https://localhost:8080/"
        },
        "id": "h8BY5vrJD7ct",
        "outputId": "ecc6075e-6349-45d5-80b3-418bb8df7d12"
      },
      "source": [
        "show_batch(dataset_test,6)"
      ],
      "execution_count": 20,
      "outputs": [
        {
          "output_type": "stream",
          "text": [
            "b'im feeling rather rotten so im not very ambitious right now'\n",
            "1\n",
            "b'im updating my blog because i feel shitty'\n",
            "1\n",
            "b'i never make her separate from me because i don t ever want her to feel like i m ashamed with her'\n",
            "1\n",
            "b'i left with my bouquet of red and yellow tulips under my arm feeling slightly more optimistic than when i arrived'\n",
            "0\n",
            "b'i was feeling a little vain when i did this one'\n",
            "1\n",
            "b'i cant walk into a shop anywhere where i do not feel uncomfortable'\n",
            "3\n"
          ],
          "name": "stdout"
        }
      ]
    },
    {
      "cell_type": "markdown",
      "metadata": {
        "id": "DIskNkzlKM2u"
      },
      "source": [
        "**One hot encoder value of Sentiments**"
      ]
    },
    {
      "cell_type": "code",
      "metadata": {
        "id": "p1LSBpzTEedh"
      },
      "source": [
        "def fetch (text,labels):\r\n",
        "  return text, tf.one_hot(target(labels),6)"
      ],
      "execution_count": 21,
      "outputs": []
    },
    {
      "cell_type": "code",
      "metadata": {
        "id": "yegScvcaEehX"
      },
      "source": [
        "train_data_f = dataset_train.map(fetch)\r\n",
        "test_data_f = dataset_test.map(fetch)"
      ],
      "execution_count": 22,
      "outputs": []
    },
    {
      "cell_type": "code",
      "metadata": {
        "colab": {
          "base_uri": "https://localhost:8080/"
        },
        "id": "wTtbizj0EekA",
        "outputId": "c02b4951-3946-46ec-b3da-77558a0ec7b2"
      },
      "source": [
        "next(iter(train_data_f))"
      ],
      "execution_count": 23,
      "outputs": [
        {
          "output_type": "execute_result",
          "data": {
            "text/plain": [
              "(<tf.Tensor: shape=(), dtype=string, numpy=b'i didnt feel humiliated'>,\n",
              " <tf.Tensor: shape=(6,), dtype=float32, numpy=array([0., 1., 0., 0., 0., 0.], dtype=float32)>)"
            ]
          },
          "metadata": {
            "tags": []
          },
          "execution_count": 23
        }
      ]
    },
    {
      "cell_type": "code",
      "metadata": {
        "colab": {
          "base_uri": "https://localhost:8080/"
        },
        "id": "YhjxsfasEemB",
        "outputId": "b9459d4a-c0b9-4aa9-c437-3cbd5f6df09e"
      },
      "source": [
        "train_data, train_labels = next(iter(train_data_f.batch(5)))\r\n",
        "train_data, train_labels"
      ],
      "execution_count": 24,
      "outputs": [
        {
          "output_type": "execute_result",
          "data": {
            "text/plain": [
              "(<tf.Tensor: shape=(5,), dtype=string, numpy=\n",
              " array([b'i didnt feel humiliated',\n",
              "        b'i can go from feeling so hopeless to so damned hopeful just from being around someone who cares and is awake',\n",
              "        b'im grabbing a minute to post i feel greedy wrong',\n",
              "        b'i am ever feeling nostalgic about the fireplace i will know that it is still on the property',\n",
              "        b'i am feeling grouchy'], dtype=object)>,\n",
              " <tf.Tensor: shape=(5, 6), dtype=float32, numpy=\n",
              " array([[0., 1., 0., 0., 0., 0.],\n",
              "        [0., 1., 0., 0., 0., 0.],\n",
              "        [0., 0., 1., 0., 0., 0.],\n",
              "        [0., 0., 0., 0., 1., 0.],\n",
              "        [0., 0., 1., 0., 0., 0.]], dtype=float32)>)"
            ]
          },
          "metadata": {
            "tags": []
          },
          "execution_count": 24
        }
      ]
    },
    {
      "cell_type": "markdown",
      "metadata": {
        "id": "vz19kFLSKc3Y"
      },
      "source": [
        "**Pre-trained embedding from tensorflow hub which is trained on google news dataset**"
      ]
    },
    {
      "cell_type": "code",
      "metadata": {
        "colab": {
          "base_uri": "https://localhost:8080/"
        },
        "id": "FMd6vkKrEeos",
        "outputId": "d93c0e68-8bcf-4060-bb6e-c9ae4376c487"
      },
      "source": [
        "embedding = \"https://tfhub.dev/google/tf2-preview/nnlm-en-dim128/1\"\r\n",
        "hub_layer = hub.KerasLayer(embedding, output_shape =[128],input_shape=[],dtype= tf.string, trainable=True)\r\n",
        "\r\n",
        "hub_layer(train_data[:1])"
      ],
      "execution_count": 25,
      "outputs": [
        {
          "output_type": "execute_result",
          "data": {
            "text/plain": [
              "<tf.Tensor: shape=(1, 128), dtype=float32, numpy=\n",
              "array([[-0.03119449,  0.2242772 ,  0.0178397 , -0.00631464,  0.07569598,\n",
              "        -0.02167997, -0.01995106,  0.0139362 , -0.11697823, -0.21412945,\n",
              "         0.11037409, -0.07088833,  0.06459473, -0.10667394,  0.02290358,\n",
              "         0.09635673,  0.08349571, -0.20847768, -0.11839393, -0.09691336,\n",
              "         0.02987843, -0.0729554 ,  0.07117689, -0.06295152, -0.1439673 ,\n",
              "        -0.02536686,  0.08038701,  0.05423144, -0.02569952, -0.16882923,\n",
              "         0.15896752, -0.0673883 , -0.0456707 , -0.0261621 ,  0.07334181,\n",
              "        -0.06786316, -0.0597977 , -0.12145151,  0.14427376,  0.23829868,\n",
              "        -0.23179632, -0.09926786, -0.02584722, -0.16371083,  0.02891883,\n",
              "        -0.05457221,  0.11446702,  0.05844094, -0.04972576, -0.01821013,\n",
              "        -0.05708738,  0.06195338, -0.17412621,  0.05468813, -0.12120245,\n",
              "        -0.12841359,  0.02613652,  0.02080501, -0.0983246 , -0.03884013,\n",
              "        -0.08751262,  0.09685411,  0.13460916, -0.00901618,  0.11266208,\n",
              "        -0.1496887 ,  0.01933742,  0.02069578, -0.07007268, -0.08142046,\n",
              "        -0.09117571, -0.01671994,  0.1079488 ,  0.02841809,  0.02216305,\n",
              "        -0.07361234,  0.08257745, -0.05236803,  0.02875234,  0.05783889,\n",
              "        -0.04357108,  0.08309657,  0.0407075 , -0.09824823, -0.11295822,\n",
              "        -0.11023378, -0.14828622,  0.11236943, -0.00869212,  0.05232763,\n",
              "        -0.01375694, -0.01338001, -0.05707455,  0.10484937,  0.03312474,\n",
              "         0.06488291,  0.0433234 , -0.05689615, -0.02003743, -0.07613584,\n",
              "        -0.09577684,  0.01094342,  0.09651077, -0.10583402,  0.06169667,\n",
              "         0.0627365 , -0.05695545, -0.1120711 , -0.11469647, -0.12041791,\n",
              "        -0.18263298,  0.0208573 , -0.05656708,  0.0622516 , -0.0115312 ,\n",
              "        -0.02975901,  0.08016494, -0.1452724 , -0.12621003, -0.05988361,\n",
              "         0.17896022,  0.17738162,  0.0692263 ,  0.04744957,  0.02463051,\n",
              "         0.08320824, -0.04248892,  0.0217595 ]], dtype=float32)>"
            ]
          },
          "metadata": {
            "tags": []
          },
          "execution_count": 25
        }
      ]
    },
    {
      "cell_type": "markdown",
      "metadata": {
        "id": "nylWuYh4Km5R"
      },
      "source": [
        "**Model(2layers of bidirectional LSTM and 2 Dense Layers)**"
      ]
    },
    {
      "cell_type": "code",
      "metadata": {
        "colab": {
          "base_uri": "https://localhost:8080/"
        },
        "id": "OHDZck3TEerb",
        "outputId": "389bf810-d457-4455-a526-b1f3157b318b"
      },
      "source": [
        "model = tf.keras.Sequential()\r\n",
        "model.add(hub_layer)\r\n",
        "model.add(tf.keras.layers.Reshape( target_shape=(128 , 1 ) ))\r\n",
        "model.add(tf.keras.layers.Bidirectional(tf.keras.layers.LSTM(32, return_sequences=True)))\r\n",
        "model.add(tf.keras.layers.Bidirectional(tf.keras.layers.LSTM(16)))\r\n",
        "for units in [128, 64 ]:\r\n",
        "  model.add(tf.keras.layers.Dense(units, activation='relu'))\r\n",
        "  model.add(tf.keras.layers.Dropout(0.3))\r\n",
        "model.add(tf.keras.layers.Dense(6, activation='softmax'))\r\n",
        "\r\n",
        "model.summary()"
      ],
      "execution_count": 26,
      "outputs": [
        {
          "output_type": "stream",
          "text": [
            "Model: \"sequential\"\n",
            "_________________________________________________________________\n",
            "Layer (type)                 Output Shape              Param #   \n",
            "=================================================================\n",
            "keras_layer (KerasLayer)     (None, 128)               124642688 \n",
            "_________________________________________________________________\n",
            "reshape (Reshape)            (None, 128, 1)            0         \n",
            "_________________________________________________________________\n",
            "bidirectional (Bidirectional (None, 128, 64)           8704      \n",
            "_________________________________________________________________\n",
            "bidirectional_1 (Bidirection (None, 32)                10368     \n",
            "_________________________________________________________________\n",
            "dense (Dense)                (None, 128)               4224      \n",
            "_________________________________________________________________\n",
            "dropout (Dropout)            (None, 128)               0         \n",
            "_________________________________________________________________\n",
            "dense_1 (Dense)              (None, 64)                8256      \n",
            "_________________________________________________________________\n",
            "dropout_1 (Dropout)          (None, 64)                0         \n",
            "_________________________________________________________________\n",
            "dense_2 (Dense)              (None, 6)                 390       \n",
            "=================================================================\n",
            "Total params: 124,674,630\n",
            "Trainable params: 124,674,630\n",
            "Non-trainable params: 0\n",
            "_________________________________________________________________\n"
          ],
          "name": "stdout"
        }
      ]
    },
    {
      "cell_type": "code",
      "metadata": {
        "id": "d9ki1TewEetv"
      },
      "source": [
        "model.compile(optimizer='adam', loss= tf.keras.losses.CategoricalCrossentropy(from_logits=True),metrics =['accuracy'])"
      ],
      "execution_count": 27,
      "outputs": []
    },
    {
      "cell_type": "code",
      "metadata": {
        "id": "ssitB1s1Et7-"
      },
      "source": [
        "# early_stopping = tf.keras.callbacks.EarlyStopping(\r\n",
        "#     patience=10,\r\n",
        "#     min_delta=0.000001,\r\n",
        "#     restore_best_weights=True,\r\n",
        "# )"
      ],
      "execution_count": 28,
      "outputs": []
    },
    {
      "cell_type": "code",
      "metadata": {
        "id": "MX3192fAEwF2"
      },
      "source": [
        "train_data_f= train_data_f.shuffle(3000).batch(512)\r\n",
        "test_data_f=test_data_f.batch(512)"
      ],
      "execution_count": 29,
      "outputs": []
    },
    {
      "cell_type": "code",
      "metadata": {
        "colab": {
          "base_uri": "https://localhost:8080/"
        },
        "id": "rB9XNypNEyrX",
        "outputId": "772f31ee-f719-45f2-8d03-1251b05cb0ff"
      },
      "source": [
        "history =model.fit(train_data_f,epochs=20,validation_data=test_data_f,verbose=1,class_weight=weights)"
      ],
      "execution_count": 55,
      "outputs": [
        {
          "output_type": "stream",
          "text": [
            "Epoch 1/20\n",
            "32/32 [==============================] - 57s 2s/step - loss: 0.5470 - accuracy: 0.8221 - val_loss: 0.8520 - val_accuracy: 0.7280\n",
            "Epoch 2/20\n",
            "32/32 [==============================] - 57s 2s/step - loss: 0.4176 - accuracy: 0.8733 - val_loss: 0.8471 - val_accuracy: 0.7600\n",
            "Epoch 3/20\n",
            "32/32 [==============================] - 59s 2s/step - loss: 0.2921 - accuracy: 0.9147 - val_loss: 0.8778 - val_accuracy: 0.7710\n",
            "Epoch 4/20\n",
            "32/32 [==============================] - 57s 2s/step - loss: 0.2186 - accuracy: 0.9345 - val_loss: 0.9195 - val_accuracy: 0.7590\n",
            "Epoch 5/20\n",
            "32/32 [==============================] - 59s 2s/step - loss: 0.1734 - accuracy: 0.9469 - val_loss: 0.9709 - val_accuracy: 0.7665\n",
            "Epoch 6/20\n",
            "32/32 [==============================] - 57s 2s/step - loss: 0.1476 - accuracy: 0.9588 - val_loss: 1.0174 - val_accuracy: 0.7660\n",
            "Epoch 7/20\n",
            "32/32 [==============================] - 57s 2s/step - loss: 0.1293 - accuracy: 0.9631 - val_loss: 1.0287 - val_accuracy: 0.7610\n",
            "Epoch 8/20\n",
            "32/32 [==============================] - 57s 2s/step - loss: 0.1095 - accuracy: 0.9709 - val_loss: 1.0646 - val_accuracy: 0.7640\n",
            "Epoch 9/20\n",
            "32/32 [==============================] - 57s 2s/step - loss: 0.1202 - accuracy: 0.9663 - val_loss: 1.1362 - val_accuracy: 0.7630\n",
            "Epoch 10/20\n",
            "32/32 [==============================] - 57s 2s/step - loss: 0.1181 - accuracy: 0.9654 - val_loss: 1.1203 - val_accuracy: 0.7655\n",
            "Epoch 11/20\n",
            "32/32 [==============================] - 57s 2s/step - loss: 0.0912 - accuracy: 0.9766 - val_loss: 1.2149 - val_accuracy: 0.7665\n",
            "Epoch 12/20\n",
            "32/32 [==============================] - 57s 2s/step - loss: 0.0828 - accuracy: 0.9774 - val_loss: 1.2926 - val_accuracy: 0.7600\n",
            "Epoch 13/20\n",
            "32/32 [==============================] - 57s 2s/step - loss: 0.0762 - accuracy: 0.9790 - val_loss: 1.2517 - val_accuracy: 0.7590\n",
            "Epoch 14/20\n",
            "32/32 [==============================] - 57s 2s/step - loss: 0.0707 - accuracy: 0.9815 - val_loss: 1.3433 - val_accuracy: 0.7595\n",
            "Epoch 15/20\n",
            "32/32 [==============================] - 57s 2s/step - loss: 0.0644 - accuracy: 0.9845 - val_loss: 1.4103 - val_accuracy: 0.7520\n",
            "Epoch 16/20\n",
            "32/32 [==============================] - 59s 2s/step - loss: 0.0568 - accuracy: 0.9860 - val_loss: 1.4125 - val_accuracy: 0.7615\n",
            "Epoch 17/20\n",
            "32/32 [==============================] - 57s 2s/step - loss: 0.0748 - accuracy: 0.9794 - val_loss: 1.3137 - val_accuracy: 0.7570\n",
            "Epoch 18/20\n",
            "32/32 [==============================] - 57s 2s/step - loss: 0.0855 - accuracy: 0.9765 - val_loss: 1.2614 - val_accuracy: 0.7460\n",
            "Epoch 19/20\n",
            "32/32 [==============================] - 58s 2s/step - loss: 0.0698 - accuracy: 0.9808 - val_loss: 1.3515 - val_accuracy: 0.7715\n",
            "Epoch 20/20\n",
            "32/32 [==============================] - 57s 2s/step - loss: 0.0568 - accuracy: 0.9858 - val_loss: 1.3257 - val_accuracy: 0.7725\n"
          ],
          "name": "stdout"
        }
      ]
    },
    {
      "cell_type": "markdown",
      "metadata": {
        "id": "dqmMAPZwLGt6"
      },
      "source": [
        "**Model accuracy vs Epochs Graphs**"
      ]
    },
    {
      "cell_type": "code",
      "metadata": {
        "colab": {
          "base_uri": "https://localhost:8080/",
          "height": 541
        },
        "id": "82BFXNRUEyw4",
        "outputId": "1e0266c6-229b-4cd8-d795-ba82f11c941b"
      },
      "source": [
        "def plot_graphs(history, string):\r\n",
        "  plt.plot(history.history[string])\r\n",
        "  plt.plot(history.history['val_'+string])\r\n",
        "  plt.xlabel(\"Epochs\")\r\n",
        "  plt.ylabel(string)\r\n",
        "  plt.legend([string, 'val_'+string])\r\n",
        "  plt.show()\r\n",
        "  \r\n",
        "plot_graphs(history, \"accuracy\")\r\n",
        "plot_graphs(history, \"loss\")"
      ],
      "execution_count": 56,
      "outputs": [
        {
          "output_type": "display_data",
          "data": {
            "image/png": "[encoded data removed]",
            "text/plain": [
              "<Figure size 432x288 with 1 Axes>"
            ]
          },
          "metadata": {
            "tags": [],
            "needs_background": "light"
          }
        },
        {
          "output_type": "display_data",
          "data": {
            "image/png": "[encoded data removed]",
            "text/plain": [
              "<Figure size 432x288 with 1 Axes>"
            ]
          },
          "metadata": {
            "tags": [],
            "needs_background": "light"
          }
        }
      ]
    },
    {
      "cell_type": "code",
      "metadata": {
        "id": "jvyfNQzVFAja"
      },
      "source": [
        "test_data,test_labels= next(iter(dataset_test.map(fetch).batch(2000)))\r\n",
        "y_pred =model.predict(test_data)"
      ],
      "execution_count": 57,
      "outputs": []
    },
    {
      "cell_type": "markdown",
      "metadata": {
        "id": "fEWooS8lLO7o"
      },
      "source": [
        "**['joy','sadness' ,'anger','fear','love','surprise']) ->[0,1,2,3,4,5]**\r\n",
        "**Classification Report**"
      ]
    },
    {
      "cell_type": "code",
      "metadata": {
        "colab": {
          "base_uri": "https://localhost:8080/"
        },
        "id": "gfWb-nmvFAmS",
        "outputId": "89a1b051-f2ff-4ef9-b0da-8852d1d59393"
      },
      "source": [
        "from sklearn.metrics import classification_report\r\n",
        "print(classification_report(test_labels.numpy().argmax(axis=1),y_pred.argmax(axis=1)))"
      ],
      "execution_count": 58,
      "outputs": [
        {
          "output_type": "stream",
          "text": [
            "              precision    recall  f1-score   support\n",
            "\n",
            "           0       0.88      0.81      0.84       695\n",
            "           1       0.87      0.78      0.82       581\n",
            "           2       0.76      0.81      0.78       275\n",
            "           3       0.55      0.67      0.60       224\n",
            "           4       0.58      0.68      0.62       159\n",
            "           5       0.55      0.74      0.63        66\n",
            "\n",
            "    accuracy                           0.77      2000\n",
            "   macro avg       0.70      0.75      0.72      2000\n",
            "weighted avg       0.79      0.77      0.78      2000\n",
            "\n"
          ],
          "name": "stdout"
        }
      ]
    },
    {
      "cell_type": "markdown",
      "metadata": {
        "id": "_mtq4ycLOfhF"
      },
      "source": [
        "**Model is 77% accurate**"
      ]
    },
    {
      "cell_type": "markdown",
      "metadata": {
        "id": "1kZXpl1KLnrk"
      },
      "source": [
        "**Confusion Matrix**"
      ]
    },
    {
      "cell_type": "code",
      "metadata": {
        "colab": {
          "base_uri": "https://localhost:8080/"
        },
        "id": "PaI5-Wh4FApG",
        "outputId": "0b02ad4d-da19-46d7-b64a-f5df4c8644a5"
      },
      "source": [
        "from sklearn.metrics import confusion_matrix\r\n",
        "confusion_matrix(test_labels.numpy().argmax(axis=1),y_pred.argmax(axis=1))"
      ],
      "execution_count": 59,
      "outputs": [
        {
          "output_type": "execute_result",
          "data": {
            "text/plain": [
              "array([[562,  12,   6,  46,  54,  15],\n",
              "       [ 16, 453,  44,  43,  24,   1],\n",
              "       [  5,  19, 222,  24,   0,   5],\n",
              "       [ 14,  21,  18, 151,   1,  19],\n",
              "       [ 36,  12,   2,   1, 108,   0],\n",
              "       [  3,   1,   2,  11,   0,  49]])"
            ]
          },
          "metadata": {
            "tags": []
          },
          "execution_count": 59
        }
      ]
    },
    {
      "cell_type": "code",
      "metadata": {
        "id": "gd61MRk8FAsa"
      },
      "source": [
        ""
      ],
      "execution_count": 34,
      "outputs": []
    },
    {
      "cell_type": "code",
      "metadata": {
        "id": "xE39whGkFAvb"
      },
      "source": [
        ""
      ],
      "execution_count": 34,
      "outputs": []
    },
    {
      "cell_type": "markdown",
      "metadata": {
        "id": "t-umWm1_FzJv"
      },
      "source": [
        "**Initial Approach (Commented the code )**"
      ]
    },
    {
      "cell_type": "markdown",
      "metadata": {
        "id": "bzzWpRbAS0CW"
      },
      "source": [
        "**Text Preprocessing**\r\n",
        "\r\n",
        "*  Remove numbers\r\n",
        "*   Stemming\r\n",
        "*   Part of speech tagging\r\n",
        "*   Remove punctuation\r\n",
        "*   Lowercase\r\n",
        "*   Remove stopwords"
      ]
    },
    {
      "cell_type": "code",
      "metadata": {
        "id": "QBj5xqEqm8k8"
      },
      "source": [
        "# REPLACE_BY_SPACE_RE = re.compile('[/(){}\\[\\]\\|@,;]')\r\n",
        "# BAD_SYMBOLS_RE = re.compile('[^0-9a-z #+_]')\r\n",
        "# STOPWORDS = set(stopwords.words('english'))\r\n",
        "\r\n",
        "# def clean_text(text):\r\n",
        "#     \"\"\"\r\n",
        "#         text: a string\r\n",
        "        \r\n",
        "#         return: modified initial string\r\n",
        "#     \"\"\"\r\n",
        "#     text = text.lower() # lowercase text\r\n",
        "#     text = REPLACE_BY_SPACE_RE.sub(' ', text) # replace REPLACE_BY_SPACE_RE symbols by space in text. substitute the matched string in REPLACE_BY_SPACE_RE with space.\r\n",
        "#     text = BAD_SYMBOLS_RE.sub('', text) # remove symbols which are in BAD_SYMBOLS_RE from text. substitute the matched string in BAD_SYMBOLS_RE with nothing. \r\n",
        "#     text = text.replace('x', '')\r\n",
        "# #    text = re.sub(r'\\W+', '', text)\r\n",
        "#     text = ' '.join(word for word in text.split() if word not in STOPWORDS) # remove stopwors from text\r\n",
        "#     return text"
      ],
      "execution_count": 35,
      "outputs": []
    },
    {
      "cell_type": "code",
      "metadata": {
        "id": "VZYwJzq3qpjF"
      },
      "source": [
        "# train_df['cleaned_text'] = train_df['sentence'].apply(clean_text)\r\n",
        "# train_df.head()"
      ],
      "execution_count": 36,
      "outputs": []
    },
    {
      "cell_type": "code",
      "metadata": {
        "id": "DHirUy7yrbnM"
      },
      "source": [
        "# train_size = int(len(train_df) * training_portion)\r\n",
        "\r\n",
        "# train_articles = train_df['cleaned_text'][0: train_size]\r\n",
        "# train_labels = train_df['sentiment'][0: train_size]\r\n",
        "\r\n",
        "# validation_articles = train_df['cleaned_text'][train_size:]\r\n",
        "# validation_labels = train_df['sentiment'][train_size:]\r\n",
        "\r\n",
        "# print(train_size)\r\n",
        "# print(len(train_articles))\r\n",
        "# print(len(train_labels))\r\n",
        "# print(len(validation_articles))\r\n",
        "# print(len(validation_labels))"
      ],
      "execution_count": 37,
      "outputs": []
    },
    {
      "cell_type": "code",
      "metadata": {
        "id": "sG4kZUIkE_Qr"
      },
      "source": [
        "# tokenizer = Tokenizer(num_words = vocab_size, oov_token=oov_tok)\r\n",
        "# tokenizer.fit_on_texts(train_articles)\r\n",
        "# word_index = tokenizer.word_index\r\n",
        "# dict(list(word_index.items())[0:10])"
      ],
      "execution_count": 38,
      "outputs": []
    },
    {
      "cell_type": "code",
      "metadata": {
        "id": "nDHTccmqFDG5"
      },
      "source": [
        "# train_sequences = tokenizer.texts_to_sequences(train_articles)\r\n",
        "# print(train_sequences[10])"
      ],
      "execution_count": 39,
      "outputs": []
    },
    {
      "cell_type": "code",
      "metadata": {
        "id": "0IbMSEW-FID0"
      },
      "source": [
        "# train_padded = pad_sequences(train_sequences, maxlen=max_length, padding=padding_type, truncating=trunc_type)\r\n",
        "# print(len(train_sequences[0]))\r\n",
        "# print(len(train_padded[0]))\r\n",
        "\r\n",
        "# print(len(train_sequences[1]))\r\n",
        "# print(len(train_padded[1]))\r\n",
        "\r\n",
        "# print(len(train_sequences[10]))\r\n",
        "# print(len(train_padded[10]))"
      ],
      "execution_count": 40,
      "outputs": []
    },
    {
      "cell_type": "code",
      "metadata": {
        "id": "Ci5kMnFMFIsx"
      },
      "source": [
        "# validation_sequences = tokenizer.texts_to_sequences(validation_articles)\r\n",
        "# validation_padded = pad_sequences(validation_sequences, maxlen=max_length, padding=padding_type, truncating=trunc_type)\r\n",
        "\r\n",
        "# print(len(validation_sequences))\r\n",
        "# print(validation_padded.shape)"
      ],
      "execution_count": 41,
      "outputs": []
    },
    {
      "cell_type": "code",
      "metadata": {
        "id": "98j_MQYAFhTS"
      },
      "source": [
        "# label_tokenizer = Tokenizer()\r\n",
        "# label_tokenizer.fit_on_texts(train_df['sentiment'])\r\n",
        "\r\n",
        "# training_label_seq = np.array(label_tokenizer.texts_to_sequences(train_labels))\r\n",
        "# validation_label_seq = np.array(label_tokenizer.texts_to_sequences(validation_labels))\r\n",
        "# print(training_label_seq[0])\r\n",
        "# print(training_label_seq[1])\r\n",
        "# print(training_label_seq[2])\r\n",
        "# print(training_label_seq.shape)\r\n",
        "\r\n",
        "# print(validation_label_seq[0])\r\n",
        "# print(validation_label_seq[1])\r\n",
        "# print(validation_label_seq[2])\r\n",
        "# print(validation_label_seq.shape)"
      ],
      "execution_count": 42,
      "outputs": []
    },
    {
      "cell_type": "code",
      "metadata": {
        "id": "OTzpVtJy0_6s"
      },
      "source": [
        "# label_word_index = label_tokenizer.word_index\r\n",
        "# dict(list(label_word_index.items()))"
      ],
      "execution_count": 43,
      "outputs": []
    },
    {
      "cell_type": "code",
      "metadata": {
        "id": "fX313mXEFbWI"
      },
      "source": [
        "# reverse_word_index = dict([(value, key) for (key, value) in word_index.items()])\r\n",
        "\r\n",
        "# def decode_article(text):\r\n",
        "#     return ' '.join([reverse_word_index.get(i, '?') for i in text])\r\n",
        "# print(decode_article(train_padded[10]))\r\n",
        "# print('---')\r\n",
        "# print(train_articles[10])"
      ],
      "execution_count": 44,
      "outputs": []
    },
    {
      "cell_type": "markdown",
      "metadata": {
        "id": "3xTRHOovF4Zd"
      },
      "source": [
        "**Model**"
      ]
    },
    {
      "cell_type": "code",
      "metadata": {
        "id": "tHs_FLnYF0ex"
      },
      "source": [
        "# model = tf.keras.Sequential([\r\n",
        "#     # Add an Embedding layer expecting input vocab of size 5000, and output embedding dimension of size 64 we set at the top\r\n",
        "#     tf.keras.layers.Embedding(vocab_size, embedding_dim),\r\n",
        "#     tf.keras.layers.Bidirectional(tf.keras.layers.LSTM(embedding_dim)),\r\n",
        "# #    tf.keras.layers.Bidirectional(tf.keras.layers.LSTM(32)),\r\n",
        "#     # use ReLU in place of tanh function since they are very good alternatives of each other.\r\n",
        "#     tf.keras.layers.Dense(embedding_dim, activation='relu'),\r\n",
        "#     # Add a Dense layer with 7 units and softmax activation.\r\n",
        "#     # When we have multiple outputs, softmax convert outputs layers into a probability distribution.\r\n",
        "#     tf.keras.layers.Dense(7, activation='softmax')\r\n",
        "# ])\r\n",
        "# model.summary()"
      ],
      "execution_count": 45,
      "outputs": []
    },
    {
      "cell_type": "code",
      "metadata": {
        "id": "bHSZhLaNF02H"
      },
      "source": [
        "# model.compile(loss='sparse_categorical_crossentropy', optimizer='adam', metrics=['accuracy'])\r\n",
        "# num_epochs =5\r\n",
        "# history = model.fit(train_padded, training_label_seq, epochs=num_epochs, validation_data=(validation_padded, validation_label_seq), verbose=2)"
      ],
      "execution_count": 46,
      "outputs": []
    },
    {
      "cell_type": "code",
      "metadata": {
        "id": "LSnbJOSvF_Rx"
      },
      "source": [
        "# def plot_graphs(history, string):\r\n",
        "#   plt.plot(history.history[string])\r\n",
        "#   plt.plot(history.history['val_'+string])\r\n",
        "#   plt.xlabel(\"Epochs\")\r\n",
        "#   plt.ylabel(string)\r\n",
        "#   plt.legend([string, 'val_'+string])\r\n",
        "#   plt.show()\r\n",
        "  \r\n",
        "# plot_graphs(history, \"accuracy\")\r\n",
        "# plot_graphs(history, \"loss\")"
      ],
      "execution_count": 47,
      "outputs": []
    },
    {
      "cell_type": "code",
      "metadata": {
        "id": "liBXzo6gGBoi"
      },
      "source": [
        "# txt = ['im feeling rather rotten so im not very ambitious right now']\r\n",
        "# seq = tokenizer.texts_to_sequences(txt)\r\n",
        "# padded = pad_sequences(seq, maxlen=max_length)\r\n",
        "# pred = model.predict(padded)\r\n",
        "# labels = ['joy', 'sadness', 'anger', 'fear', 'love','surprise']\r\n",
        "# print(pred, labels[np.argmax(pred)])"
      ],
      "execution_count": 48,
      "outputs": []
    },
    {
      "cell_type": "code",
      "metadata": {
        "id": "SydZXVV9nG1i"
      },
      "source": [
        "# test_df['cleaned_text'] = test_df['sentence'].apply(clean_text)\r\n",
        "# test_df.head()"
      ],
      "execution_count": 49,
      "outputs": []
    },
    {
      "cell_type": "code",
      "metadata": {
        "id": "qyHIeb5FtikP"
      },
      "source": [
        "# test_sequences = tokenizer.texts_to_sequences(test_df['cleaned_text'])\r\n",
        "# test_padded = pad_sequences(test_sequences, maxlen=max_length)\r\n",
        "# test_pred =model.predict(test_padded)\r\n",
        "# test_df['predicted']=[labels[np.argmax(i)] for i in test_pred]"
      ],
      "execution_count": 50,
      "outputs": []
    },
    {
      "cell_type": "code",
      "metadata": {
        "id": "FL0gZf1RuW82"
      },
      "source": [
        "# from sklearn.metrics import accuracy_score\r\n",
        "# print(accuracy_score(test_df['sentiment'],test_df['predicted']))"
      ],
      "execution_count": 51,
      "outputs": []
    },
    {
      "cell_type": "code",
      "metadata": {
        "id": "qPP8_4kj7a2g"
      },
      "source": [
        "# test_df.head()"
      ],
      "execution_count": 52,
      "outputs": []
    },
    {
      "cell_type": "code",
      "metadata": {
        "id": "6xaDnoAnwZH1"
      },
      "source": [
        "# pd.crosstab(test_df['sentiment'],test_df['predicted'])"
      ],
      "execution_count": 53,
      "outputs": []
    }
  ]
}